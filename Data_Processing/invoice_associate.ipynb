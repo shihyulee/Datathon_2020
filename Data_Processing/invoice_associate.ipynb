{
 "cells": [
  {
   "cell_type": "code",
   "execution_count": 1,
   "metadata": {},
   "outputs": [],
   "source": [
    "import pandas as pd"
   ]
  },
  {
   "cell_type": "code",
   "execution_count": 2,
   "metadata": {},
   "outputs": [],
   "source": [
    "df = pd.read_excel(\"../sample_data/電子發票消費資料集/發票怪獸sample data0805.xlsx\", skiprows=[0])"
   ]
  },
  {
   "cell_type": "code",
   "execution_count": 3,
   "metadata": {},
   "outputs": [],
   "source": [
    "df = df[df[\"品項單價\"]>1].reset_index(drop=True)"
   ]
  },
  {
   "cell_type": "code",
   "execution_count": 4,
   "metadata": {},
   "outputs": [],
   "source": [
    "id_num  = df[\"發票流水號\"].unique().tolist()"
   ]
  },
  {
   "cell_type": "code",
   "execution_count": 5,
   "metadata": {},
   "outputs": [],
   "source": [
    "item_list = [df[df[\"發票流水號\"]==id_num[i]][\"品項名稱\"].values.tolist() for i in range(len(id_num))]"
   ]
  },
  {
   "cell_type": "code",
   "execution_count": 6,
   "metadata": {},
   "outputs": [],
   "source": [
    "item_df = pd.DataFrame({\"No\":id_num, \"Items\": item_list})"
   ]
  },
  {
   "cell_type": "code",
   "execution_count": 7,
   "metadata": {},
   "outputs": [
    {
     "data": {
      "text/html": [
       "<div>\n",
       "<style scoped>\n",
       "    .dataframe tbody tr th:only-of-type {\n",
       "        vertical-align: middle;\n",
       "    }\n",
       "\n",
       "    .dataframe tbody tr th {\n",
       "        vertical-align: top;\n",
       "    }\n",
       "\n",
       "    .dataframe thead th {\n",
       "        text-align: right;\n",
       "    }\n",
       "</style>\n",
       "<table border=\"1\" class=\"dataframe\">\n",
       "  <thead>\n",
       "    <tr style=\"text-align: right;\">\n",
       "      <th></th>\n",
       "      <th>No</th>\n",
       "      <th>Items</th>\n",
       "    </tr>\n",
       "  </thead>\n",
       "  <tbody>\n",
       "    <tr>\n",
       "      <th>0</th>\n",
       "      <td>23555</td>\n",
       "      <td>[草莓奶霜雙餡夾心, 藍山咖啡CAN240]</td>\n",
       "    </tr>\n",
       "    <tr>\n",
       "      <th>1</th>\n",
       "      <td>23147</td>\n",
       "      <td>[孔雀香酥脆香魚大, 蓋奇巧克力, UCC無糖咖啡CAN185g]</td>\n",
       "    </tr>\n",
       "    <tr>\n",
       "      <th>2</th>\n",
       "      <td>23496</td>\n",
       "      <td>[百樂門湛藍鏤空濾嘴香]</td>\n",
       "    </tr>\n",
       "    <tr>\n",
       "      <th>3</th>\n",
       "      <td>23573</td>\n",
       "      <td>[經典原味熱狗]</td>\n",
       "    </tr>\n",
       "    <tr>\n",
       "      <th>4</th>\n",
       "      <td>23494</td>\n",
       "      <td>[保力達蠻牛維他命Ｂ飲]</td>\n",
       "    </tr>\n",
       "    <tr>\n",
       "      <th>...</th>\n",
       "      <td>...</td>\n",
       "      <td>...</td>\n",
       "    </tr>\n",
       "    <tr>\n",
       "      <th>494</th>\n",
       "      <td>23359</td>\n",
       "      <td>[3 丹麥傳統熱狗堡, 嘉士伯啤酒 玻璃杯]</td>\n",
       "    </tr>\n",
       "    <tr>\n",
       "      <th>495</th>\n",
       "      <td>23314</td>\n",
       "      <td>[●伯爵鮮奶茶, =+大杯$20, 大.錫蘭紅茶]</td>\n",
       "    </tr>\n",
       "    <tr>\n",
       "      <th>496</th>\n",
       "      <td>23217</td>\n",
       "      <td>[龍田揚炸雞3塊, 特製漢堡排, 龍田揚炸雞, 套餐, 套餐]</td>\n",
       "    </tr>\n",
       "    <tr>\n",
       "      <th>497</th>\n",
       "      <td>23213</td>\n",
       "      <td>[套餐, 龍田揚炸雞3塊, 特製鮭魚, 龍田揚炸雞, 套餐]</td>\n",
       "    </tr>\n",
       "    <tr>\n",
       "      <th>498</th>\n",
       "      <td>23071</td>\n",
       "      <td>[電子零件配件]</td>\n",
       "    </tr>\n",
       "  </tbody>\n",
       "</table>\n",
       "<p>499 rows × 2 columns</p>\n",
       "</div>"
      ],
      "text/plain": [
       "        No                              Items\n",
       "0    23555             [草莓奶霜雙餡夾心, 藍山咖啡CAN240]\n",
       "1    23147  [孔雀香酥脆香魚大, 蓋奇巧克力, UCC無糖咖啡CAN185g]\n",
       "2    23496                       [百樂門湛藍鏤空濾嘴香]\n",
       "3    23573                           [經典原味熱狗]\n",
       "4    23494                       [保力達蠻牛維他命Ｂ飲]\n",
       "..     ...                                ...\n",
       "494  23359             [3 丹麥傳統熱狗堡, 嘉士伯啤酒 玻璃杯]\n",
       "495  23314          [●伯爵鮮奶茶, =+大杯$20, 大.錫蘭紅茶]\n",
       "496  23217    [龍田揚炸雞3塊, 特製漢堡排, 龍田揚炸雞, 套餐, 套餐]\n",
       "497  23213     [套餐, 龍田揚炸雞3塊, 特製鮭魚, 龍田揚炸雞, 套餐]\n",
       "498  23071                           [電子零件配件]\n",
       "\n",
       "[499 rows x 2 columns]"
      ]
     },
     "execution_count": 7,
     "metadata": {},
     "output_type": "execute_result"
    }
   ],
   "source": [
    "item_df"
   ]
  },
  {
   "cell_type": "code",
   "execution_count": 8,
   "metadata": {},
   "outputs": [],
   "source": [
    "import pyfpgrowth"
   ]
  },
  {
   "cell_type": "code",
   "execution_count": 23,
   "metadata": {},
   "outputs": [],
   "source": [
    "patterns = pyfpgrowth.find_frequent_patterns(item_df[\"Items\"].values.tolist(),3)"
   ]
  },
  {
   "cell_type": "code",
   "execution_count": 24,
   "metadata": {
    "scrolled": false
   },
   "outputs": [
    {
     "data": {
      "text/plain": [
       "{('UCC無糖咖啡CAN185g',): 3,\n",
       " ('保力達蠻牛維他命Ｂ飲',): 3,\n",
       " ('美式熱咖啡(中)',): 3,\n",
       " ('餐飲費',): 3,\n",
       " ('停車費',): 3,\n",
       " ('自由時報',): 3,\n",
       " ('每朝健康雙纖綠茶',): 3,\n",
       " ('搖搖雞腿排',): 3,\n",
       " ('A送搖搖腿排BOGO',): 3,\n",
       " ('飲-豬滿加蛋',): 3,\n",
       " ('$55中卡布奇諾',): 3,\n",
       " ('香辣茄汁雞肉細扁麵',): 3,\n",
       " ('午餐套餐+$70', '香辣茄汁雞肉細扁麵'): 12,\n",
       " ('香辣茄汁雞肉細扁麵', '香辣茄汁雞肉細扁麵'): 3,\n",
       " ('午餐套餐+$70', '香辣茄汁雞肉細扁麵', '香辣茄汁雞肉細扁麵'): 3,\n",
       " ('肉鬆',): 3,\n",
       " ('熱狗', '肉鬆'): 3,\n",
       " ('背心袋',): 3,\n",
       " ('@蜜柚美粒',): 3,\n",
       " ('中薯六塊雞餐',): 3,\n",
       " ('中薯六塊雞餐', '冰紅茶-中'): 9,\n",
       " ('中薯六塊雞餐', '中薯六塊雞餐'): 3,\n",
       " ('中薯六塊雞餐', '中薯六塊雞餐', '冰紅茶-中'): 3,\n",
       " ('大熟成歐蕾', '大麗春紅茶'): 5,\n",
       " ('大熟成歐蕾', '大熟成歐蕾', '大麗春紅茶'): 3,\n",
       " ('中熟成檸果', '大麗春紅茶'): 5,\n",
       " ('中熟成檸果', '大熟成歐蕾', '大麗春紅茶'): 11,\n",
       " ('中熟成檸果', '中熟成檸果', '大麗春紅茶'): 3,\n",
       " ('中熟成檸果', '中熟成檸果', '大熟成歐蕾', '大麗春紅茶'): 3,\n",
       " ('茶葉蛋',): 4,\n",
       " ('玉米湯-小',): 4,\n",
       " ('C玉米湯_小',): 4,\n",
       " ('健康便當120',): 4,\n",
       " ('健康便當120', '健康便當120'): 3,\n",
       " ('可樂-中',): 4,\n",
       " ('午餐套餐+$70',): 4,\n",
       " ('午餐套餐+$70', '午餐套餐+$70'): 6,\n",
       " ('冰紅茶-中',): 4,\n",
       " ('冰紅茶-中', '冰紅茶-中'): 3,\n",
       " ('服務費',): 4,\n",
       " ('套餐',): 4,\n",
       " ('【113F 12092005】９２無鉛汽油',): 5,\n",
       " ('招牌鍋貼',): 5,\n",
       " ('酸辣湯',): 5,\n",
       " ('招牌鍋貼', '酸辣湯'): 5,\n",
       " ('冰綠茶-中',): 5,\n",
       " ('冰綠茶-中', '配-經典中薯'): 3,\n",
       " ('熱狗',): 5,\n",
       " ('熱狗', '熱狗'): 4,\n",
       " ('大熟成歐蕾',): 5,\n",
       " ('中熟成檸果', '大熟成歐蕾'): 10,\n",
       " ('大熟成歐蕾', '大熟成歐蕾'): 3,\n",
       " ('中熟成檸果', '大熟成歐蕾', '大熟成歐蕾'): 3,\n",
       " ('拿鐵熱咖啡(中)',): 6,\n",
       " ('(新)馬爾斯綠星球菸',): 6,\n",
       " ('配-經典中薯',): 6,\n",
       " ('中熟成檸果',): 6,\n",
       " ('中熟成檸果', '中熟成檸果'): 3,\n",
       " ('九五無鉛汽油',): 7,\n",
       " ('【113F 12095001】９５無鉛汽油',): 8,\n",
       " ('92無鉛',): 16}"
      ]
     },
     "execution_count": 24,
     "metadata": {},
     "output_type": "execute_result"
    }
   ],
   "source": [
    "patterns"
   ]
  },
  {
   "cell_type": "code",
   "execution_count": 25,
   "metadata": {},
   "outputs": [],
   "source": [
    "rules = pyfpgrowth.generate_association_rules(patterns, 0.7)"
   ]
  },
  {
   "cell_type": "code",
   "execution_count": 26,
   "metadata": {},
   "outputs": [
    {
     "data": {
      "text/plain": [
       "{('午餐套餐+$70',): ((), 1.5),\n",
       " ('香辣茄汁雞肉細扁麵',): (('午餐套餐+$70',), 1.0),\n",
       " ('香辣茄汁雞肉細扁麵', '香辣茄汁雞肉細扁麵'): (('午餐套餐+$70',), 1.0),\n",
       " ('肉鬆',): (('熱狗',), 1.0),\n",
       " ('中薯六塊雞餐',): (('冰紅茶-中',), 1.0),\n",
       " ('冰紅茶-中',): ((), 0.75),\n",
       " ('中薯六塊雞餐', '中薯六塊雞餐'): (('冰紅茶-中',), 1.0),\n",
       " ('大熟成歐蕾',): (('中熟成檸果',), 2.0),\n",
       " ('大熟成歐蕾', '大熟成歐蕾'): (('中熟成檸果',), 1.0),\n",
       " ('中熟成檸果',): (('大熟成歐蕾',), 1.6666666666666667),\n",
       " ('中熟成檸果', '大熟成歐蕾'): (('大麗春紅茶',), 1.1),\n",
       " ('中熟成檸果', '大麗春紅茶'): (('大熟成歐蕾',), 2.2),\n",
       " ('大熟成歐蕾', '大麗春紅茶'): (('中熟成檸果',), 2.2),\n",
       " ('中熟成檸果', '中熟成檸果'): (('大熟成歐蕾', '大麗春紅茶'), 1.0),\n",
       " ('中熟成檸果', '中熟成檸果', '大麗春紅茶'): (('大熟成歐蕾',), 1.0),\n",
       " ('健康便當120',): ((), 0.75),\n",
       " ('招牌鍋貼',): (('酸辣湯',), 1.0),\n",
       " ('酸辣湯',): (('招牌鍋貼',), 1.0),\n",
       " ('熱狗',): ((), 0.8)}"
      ]
     },
     "execution_count": 26,
     "metadata": {},
     "output_type": "execute_result"
    }
   ],
   "source": [
    "rules"
   ]
  },
  {
   "cell_type": "code",
   "execution_count": null,
   "metadata": {},
   "outputs": [],
   "source": []
  }
 ],
 "metadata": {
  "kernelspec": {
   "display_name": "Python 3",
   "language": "python",
   "name": "python3"
  },
  "language_info": {
   "codemirror_mode": {
    "name": "ipython",
    "version": 3
   },
   "file_extension": ".py",
   "mimetype": "text/x-python",
   "name": "python",
   "nbconvert_exporter": "python",
   "pygments_lexer": "ipython3",
   "version": "3.6.10"
  }
 },
 "nbformat": 4,
 "nbformat_minor": 4
}
