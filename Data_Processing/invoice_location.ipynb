{
 "cells": [
  {
   "cell_type": "code",
   "execution_count": 1,
   "metadata": {},
   "outputs": [],
   "source": [
    "import pandas as pd"
   ]
  },
  {
   "cell_type": "code",
   "execution_count": 28,
   "metadata": {},
   "outputs": [],
   "source": [
    "df = pd.read_excel(\"../sample_data/電子發票消費資料集/發票怪獸sample data0805.xlsx\", skiprows=[0])"
   ]
  },
  {
   "cell_type": "code",
   "execution_count": 29,
   "metadata": {},
   "outputs": [
    {
     "name": "stdout",
     "output_type": "stream",
     "text": [
      "消費人次: 500\n"
     ]
    }
   ],
   "source": [
    "buy_num = df[\"發票流水號\"].nunique()\n",
    "print(f\"消費人次: {buy_num}\")"
   ]
  },
  {
   "cell_type": "code",
   "execution_count": 30,
   "metadata": {},
   "outputs": [],
   "source": [
    "df_num = df[[\"發票流水號\", \"賣方地址\"]]"
   ]
  },
  {
   "cell_type": "code",
   "execution_count": 33,
   "metadata": {},
   "outputs": [],
   "source": [
    "df_num = df_num.drop_duplicates(subset=['發票流水號']).reset_index(drop=True)"
   ]
  },
  {
   "cell_type": "code",
   "execution_count": 35,
   "metadata": {},
   "outputs": [],
   "source": [
    "df_num_location = df_num[~(df_num[\"賣方地址\"].isnull())].reset_index(drop=True)"
   ]
  },
  {
   "cell_type": "code",
   "execution_count": 48,
   "metadata": {},
   "outputs": [],
   "source": [
    "city = df_num_location[\"賣方地址\"].str[:3]"
   ]
  },
  {
   "cell_type": "code",
   "execution_count": 49,
   "metadata": {},
   "outputs": [
    {
     "data": {
      "text/plain": [
       "台北市    155\n",
       "新北市     77\n",
       "彰化縣     44\n",
       "臺北市     34\n",
       "新竹市     21\n",
       "屏東縣     14\n",
       "台中市     13\n",
       "高雄市     12\n",
       "桃園市      6\n",
       "新竹縣      5\n",
       "桃園縣      5\n",
       "宜蘭縣      3\n",
       "南投縣      3\n",
       "臺中市      3\n",
       "澎湖縣      2\n",
       "基隆市      2\n",
       "104      2\n",
       "台南市      2\n",
       "雲林縣      2\n",
       "115      1\n",
       "台北縣      1\n",
       "236      1\n",
       "嘉義市      1\n",
       "106      1\n",
       "台灣桃      1\n",
       "北市承      1\n",
       "地址:      1\n",
       "220      1\n",
       "300      1\n",
       "Name: 賣方地址, dtype: int64"
      ]
     },
     "execution_count": 49,
     "metadata": {},
     "output_type": "execute_result"
    }
   ],
   "source": [
    "city.value_counts()"
   ]
  },
  {
   "cell_type": "code",
   "execution_count": null,
   "metadata": {},
   "outputs": [],
   "source": []
  }
 ],
 "metadata": {
  "kernelspec": {
   "display_name": "Python 3",
   "language": "python",
   "name": "python3"
  },
  "language_info": {
   "codemirror_mode": {
    "name": "ipython",
    "version": 3
   },
   "file_extension": ".py",
   "mimetype": "text/x-python",
   "name": "python",
   "nbconvert_exporter": "python",
   "pygments_lexer": "ipython3",
   "version": "3.6.10"
  }
 },
 "nbformat": 4,
 "nbformat_minor": 4
}
