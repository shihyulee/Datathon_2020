{
 "cells": [
  {
   "cell_type": "markdown",
   "metadata": {},
   "source": [
    "##  Apriori\n",
    "* https://github.com/ymoch/apyori\n",
    "* Ref: https://ithelp.ithome.com.tw/articles/10200936\n",
    "* Ref: https://medium.com/bandai%E7%9A%84%E6%A9%9F%E5%99%A8%E5%AD%B8%E7%BF%92%E7%AD%86%E8%A8%98/%E6%89%8B%E6%8A%8A%E6%89%8B%E7%A8%8B%E5%BC%8F%E5%AF%A6%E4%BD%9C%E5%88%86%E4%BA%AB%E7%B3%BB%E5%88%97-%E5%85%88%E9%A9%97%E6%BC%94%E7%AE%97%E6%B3%95-apriori-algorithm-%E9%97%9C%E8%81%AF%E8%A6%8F%E5%89%87%E5%88%86%E6%9E%90-64e0c8506413"
   ]
  },
  {
   "cell_type": "code",
   "execution_count": 1,
   "metadata": {},
   "outputs": [],
   "source": [
    "from apyori import apriori"
   ]
  },
  {
   "cell_type": "code",
   "execution_count": 12,
   "metadata": {},
   "outputs": [],
   "source": [
    "transactions = [\n",
    "    ['beer', 'nuts'],\n",
    "    ['beer', 'cheese'],\n",
    "]\n",
    "results = list(apriori(transactions))"
   ]
  },
  {
   "cell_type": "code",
   "execution_count": 13,
   "metadata": {},
   "outputs": [
    {
     "data": {
      "text/plain": [
       "[RelationRecord(items=frozenset({'beer'}), support=1.0, ordered_statistics=[OrderedStatistic(items_base=frozenset(), items_add=frozenset({'beer'}), confidence=1.0, lift=1.0)]),\n",
       " RelationRecord(items=frozenset({'cheese'}), support=0.5, ordered_statistics=[OrderedStatistic(items_base=frozenset(), items_add=frozenset({'cheese'}), confidence=0.5, lift=1.0)]),\n",
       " RelationRecord(items=frozenset({'nuts'}), support=0.5, ordered_statistics=[OrderedStatistic(items_base=frozenset(), items_add=frozenset({'nuts'}), confidence=0.5, lift=1.0)]),\n",
       " RelationRecord(items=frozenset({'beer', 'cheese'}), support=0.5, ordered_statistics=[OrderedStatistic(items_base=frozenset(), items_add=frozenset({'beer', 'cheese'}), confidence=0.5, lift=1.0), OrderedStatistic(items_base=frozenset({'beer'}), items_add=frozenset({'cheese'}), confidence=0.5, lift=1.0), OrderedStatistic(items_base=frozenset({'cheese'}), items_add=frozenset({'beer'}), confidence=1.0, lift=1.0)]),\n",
       " RelationRecord(items=frozenset({'beer', 'nuts'}), support=0.5, ordered_statistics=[OrderedStatistic(items_base=frozenset(), items_add=frozenset({'beer', 'nuts'}), confidence=0.5, lift=1.0), OrderedStatistic(items_base=frozenset({'beer'}), items_add=frozenset({'nuts'}), confidence=0.5, lift=1.0), OrderedStatistic(items_base=frozenset({'nuts'}), items_add=frozenset({'beer'}), confidence=1.0, lift=1.0)])]"
      ]
     },
     "execution_count": 13,
     "metadata": {},
     "output_type": "execute_result"
    }
   ],
   "source": [
    "results"
   ]
  },
  {
   "cell_type": "code",
   "execution_count": 2,
   "metadata": {},
   "outputs": [],
   "source": [
    "data = [['r', 'z', 'h', 'j', 'p'],\n",
    "       ['z', 'y', 'x', 'w', 'v', 'u', 't', 's'],\n",
    "       ['z'],\n",
    "       ['r', 'x', 'n', 'o', 's'],\n",
    "       ['y', 'r', 'x', 'z', 'q', 't', 'p'],\n",
    "       ['y', 'z', 'x', 'e', 'q', 's', 't', 'm']]"
   ]
  },
  {
   "cell_type": "code",
   "execution_count": 3,
   "metadata": {},
   "outputs": [],
   "source": [
    "association_rules = apriori(data, min_support=0.16, min_confidence=0.2, min_lift=3, max_length=2) \n",
    "association_results = list(association_rules)"
   ]
  },
  {
   "cell_type": "code",
   "execution_count": 4,
   "metadata": {},
   "outputs": [
    {
     "name": "stdout",
     "output_type": "stream",
     "text": [
      "Rule: e -> m\n",
      "Support: 0.16666666666666666\n",
      "Confidence: 1.0\n",
      "Lift: 6.0\n",
      "=====================================\n",
      "Rule: e -> q\n",
      "Support: 0.16666666666666666\n",
      "Confidence: 1.0\n",
      "Lift: 3.0\n",
      "=====================================\n",
      "Rule: j -> h\n",
      "Support: 0.16666666666666666\n",
      "Confidence: 1.0\n",
      "Lift: 6.0\n",
      "=====================================\n",
      "Rule: p -> h\n",
      "Support: 0.16666666666666666\n",
      "Confidence: 1.0\n",
      "Lift: 3.0\n",
      "=====================================\n",
      "Rule: j -> p\n",
      "Support: 0.16666666666666666\n",
      "Confidence: 1.0\n",
      "Lift: 3.0\n",
      "=====================================\n",
      "Rule: m -> q\n",
      "Support: 0.16666666666666666\n",
      "Confidence: 1.0\n",
      "Lift: 3.0\n",
      "=====================================\n",
      "Rule: n -> o\n",
      "Support: 0.16666666666666666\n",
      "Confidence: 1.0\n",
      "Lift: 6.0\n",
      "=====================================\n",
      "Rule: v -> u\n",
      "Support: 0.16666666666666666\n",
      "Confidence: 1.0\n",
      "Lift: 6.0\n",
      "=====================================\n",
      "Rule: u -> w\n",
      "Support: 0.16666666666666666\n",
      "Confidence: 1.0\n",
      "Lift: 6.0\n",
      "=====================================\n",
      "Rule: v -> w\n",
      "Support: 0.16666666666666666\n",
      "Confidence: 1.0\n",
      "Lift: 6.0\n",
      "=====================================\n"
     ]
    }
   ],
   "source": [
    "for item in association_results:\n",
    "        pair = item[0] \n",
    "        items = [x for x in pair]\n",
    "        print(\"Rule: \" + items[0] + \" -> \" + items[1])\n",
    "        print(\"Support: \" + str(item[1]))\n",
    "        print(\"Confidence: \" + str(item[2][0][2]))\n",
    "        print(\"Lift: \" + str(item[2][0][3]))\n",
    "        print(\"=====================================\")"
   ]
  },
  {
   "cell_type": "markdown",
   "metadata": {},
   "source": [
    "## FP-Growth\n",
    "* Ref: https://fp-growth.readthedocs.io/en/latest/readme.html"
   ]
  },
  {
   "cell_type": "code",
   "execution_count": 6,
   "metadata": {},
   "outputs": [],
   "source": [
    "import pyfpgrowth"
   ]
  },
  {
   "cell_type": "code",
   "execution_count": 7,
   "metadata": {},
   "outputs": [],
   "source": [
    "transactions = [[1, 2, 5],\n",
    "                [2, 4],\n",
    "                [2, 3],\n",
    "                [1, 2, 4],\n",
    "                [1, 3],\n",
    "                [2, 3],\n",
    "                [1, 3],\n",
    "                [1, 2, 3, 5],\n",
    "                [1, 2, 3]]"
   ]
  },
  {
   "cell_type": "code",
   "execution_count": 8,
   "metadata": {},
   "outputs": [],
   "source": [
    "patterns = pyfpgrowth.find_frequent_patterns(transactions, 2)"
   ]
  },
  {
   "cell_type": "code",
   "execution_count": 9,
   "metadata": {},
   "outputs": [
    {
     "data": {
      "text/plain": [
       "{(5,): 2,\n",
       " (1, 5): 2,\n",
       " (2, 5): 2,\n",
       " (1, 2, 5): 2,\n",
       " (4,): 2,\n",
       " (2, 4): 2,\n",
       " (1,): 6,\n",
       " (1, 2): 4,\n",
       " (2, 3): 4,\n",
       " (1, 2, 3): 2,\n",
       " (1, 3): 4,\n",
       " (2,): 7}"
      ]
     },
     "execution_count": 9,
     "metadata": {},
     "output_type": "execute_result"
    }
   ],
   "source": [
    "patterns"
   ]
  },
  {
   "cell_type": "code",
   "execution_count": 10,
   "metadata": {},
   "outputs": [],
   "source": [
    "rules = pyfpgrowth.generate_association_rules(patterns, 0.7)"
   ]
  },
  {
   "cell_type": "code",
   "execution_count": 11,
   "metadata": {},
   "outputs": [
    {
     "data": {
      "text/plain": [
       "{(5,): ((1, 2), 1.0),\n",
       " (1, 5): ((2,), 1.0),\n",
       " (2, 5): ((1,), 1.0),\n",
       " (4,): ((2,), 1.0)}"
      ]
     },
     "execution_count": 11,
     "metadata": {},
     "output_type": "execute_result"
    }
   ],
   "source": [
    "rules"
   ]
  },
  {
   "cell_type": "code",
   "execution_count": null,
   "metadata": {},
   "outputs": [],
   "source": []
  }
 ],
 "metadata": {
  "kernelspec": {
   "display_name": "Python 3",
   "language": "python",
   "name": "python3"
  },
  "language_info": {
   "codemirror_mode": {
    "name": "ipython",
    "version": 3
   },
   "file_extension": ".py",
   "mimetype": "text/x-python",
   "name": "python",
   "nbconvert_exporter": "python",
   "pygments_lexer": "ipython3",
   "version": "3.6.10"
  }
 },
 "nbformat": 4,
 "nbformat_minor": 4
}
